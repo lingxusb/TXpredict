{
 "cells": [
  {
   "cell_type": "markdown",
   "id": "addd21d6",
   "metadata": {},
   "source": [
    "- load processed data for GCF_000011065.1\n",
    "- train a TXpredict model based on this bacteria strain"
   ]
  },
  {
   "cell_type": "code",
   "execution_count": 2,
   "id": "28eabf6d",
   "metadata": {},
   "outputs": [],
   "source": [
    "import numpy as np\n",
    "import pandas as pd\n",
    "import torch\n",
    "import numpy as np\n",
    "import torch\n",
    "import torch.nn as nn\n",
    "import torch.optim as optim\n",
    "from torch.utils.data import DataLoader, TensorDataset\n",
    "from sklearn.model_selection import train_test_split\n",
    "import pandas as pd\n",
    "import math"
   ]
  },
  {
   "cell_type": "markdown",
   "id": "7870a4aa",
   "metadata": {},
   "source": [
    "### model definition"
   ]
  },
  {
   "cell_type": "code",
   "execution_count": 14,
   "id": "0709c1b1",
   "metadata": {},
   "outputs": [],
   "source": [
    "import sys\n",
    "import os\n",
    "\n",
    "scripts_path = os.path.join(\"..\", \"scripts\")\n",
    "sys.path.append(scripts_path)\n",
    "\n",
    "from model import (\n",
    "    PositionalEncoding,\n",
    "    TransformerModel,\n",
    "    CombinedModel\n",
    ")\n",
    "\n",
    "model1_params = {\n",
    "            'input_dim': 1301,  \n",
    "            'num_heads': 4,\n",
    "            'num_layers': 1,\n",
    "            'dim_feedforward': 128,  \n",
    "            'dropout': 0.0\n",
    "        }\n",
    "\n",
    "combined_dim = 256 \n",
    "output_dim = 1 \n",
    "\n",
    "model = CombinedModel(model1_params, combined_dim, output_dim).to(device)\n"
   ]
  },
  {
   "cell_type": "markdown",
   "id": "d188de14",
   "metadata": {},
   "source": [
    "### data loading"
   ]
  },
  {
   "cell_type": "code",
   "execution_count": 5,
   "id": "e2318273",
   "metadata": {},
   "outputs": [
    {
     "name": "stdout",
     "output_type": "stream",
     "text": [
      "Using device: cuda\n",
      "\n",
      "Reading data from: ../example_data/GSE251676/\n",
      "  Genes: 4618, Conditions: 64, X shape: (4618, 1301), Y shape: (4618, 1)\n",
      "\n",
      "Data loading complete!\n"
     ]
    }
   ],
   "source": [
    "import os\n",
    "import numpy as np\n",
    "import torch\n",
    "import pandas as pd\n",
    "\n",
    "# Device configuration\n",
    "device = torch.device(\"cuda\" if torch.cuda.is_available() else \"cpu\")\n",
    "print(\"Using device:\", device)\n",
    "\n",
    "# Directory containing all subfolders\n",
    "base_path = \"../example_data/GSE251676/\"\n",
    "\n",
    "# Get a list of folder names under `path_to_folder`\n",
    "dataset_ids = [\"GCF_000011065.1\"]\n",
    "\n",
    "# Lists to store combined data\n",
    "X_list = []\n",
    "Y_list = []\n",
    "dataset_labels = []\n",
    "output_dims = []\n",
    "\n",
    "# Iterate over each dataset folder\n",
    "for idx, dataset_id in enumerate(dataset_ids):  \n",
    "    print(f\"\\nReading data from: {base_path}\")\n",
    "\n",
    "    # Construct file paths\n",
    "    embeddings_path = os.path.join(base_path, f\"{dataset_id}_filtered_embeddings.txt\")\n",
    "    meta_path = os.path.join(base_path, f\"{dataset_id}_filtered_meta.txt\")\n",
    "    tpm_path = os.path.join(base_path, f\"{dataset_id}_filtered_log_tpm.csv\")\n",
    "\n",
    "    # Load embeddings and meta\n",
    "    if not (os.path.exists(embeddings_path) and os.path.exists(meta_path) and os.path.exists(tpm_path)):\n",
    "        print(\"  Missing one or more required files. Skipping this dataset.\")\n",
    "        continue\n",
    "\n",
    "    # Read embeddings and meta\n",
    "    X_embedding = np.loadtxt(embeddings_path)\n",
    "    X_meta = np.loadtxt(meta_path)\n",
    "\n",
    "    # Combine embeddings + meta as final feature matrix X\n",
    "    X = np.hstack([X_embedding, X_meta])\n",
    "\n",
    "    # Read TPM (log_tpm) data and drop the first column if it's just an index\n",
    "    tpm_df = pd.read_csv(tpm_path)\n",
    "    Y = tpm_df.iloc[:, 1:].values  # use all columns except the first (assumes the first column is gene_id or an index)\n",
    "    conditions = Y.shape[1]\n",
    "\n",
    "    # If there's more than 1 condition in Y, do some filtering\n",
    "    if conditions > 1:\n",
    "        # Now reduce Y to single-column by taking row-wise mean\n",
    "        row_means = np.mean(Y, axis=1, keepdims=True)\n",
    "        Y = row_means\n",
    "\n",
    "    # Collect dataset-wise results\n",
    "    X_list.append(X)\n",
    "    Y_list.append(Y)\n",
    "    dataset_labels.extend([idx] * X.shape[0])\n",
    "\n",
    "    # Track output dimensionality (often 1 if you reduce to row means)\n",
    "    output_dims.append(Y.shape[1])\n",
    "    print(f\"  Genes: {Y.shape[0]}, Conditions: {conditions}, X shape: {X.shape}, Y shape: {Y.shape}\")\n",
    "\n",
    "print(\"\\nData loading complete!\")"
   ]
  },
  {
   "cell_type": "markdown",
   "id": "5ba85b02",
   "metadata": {},
   "source": [
    "### model training"
   ]
  },
  {
   "cell_type": "code",
   "execution_count": 6,
   "id": "2ed5f903",
   "metadata": {},
   "outputs": [],
   "source": [
    "import os\n",
    "import random\n",
    "import numpy as np\n",
    "import scipy\n",
    "import matplotlib.pyplot as plt\n",
    "import torch\n",
    "import torch.nn as nn\n",
    "import torch.optim as optim\n",
    "from torch.utils.data import DataLoader, TensorDataset\n",
    "from sklearn.model_selection import train_test_split"
   ]
  },
  {
   "cell_type": "code",
   "execution_count": 16,
   "id": "63d9cf9f",
   "metadata": {},
   "outputs": [
    {
     "name": "stdout",
     "output_type": "stream",
     "text": [
      "Training set: 3694 samples\n",
      "Test set    : 924 samples\n",
      "Epoch [1/5] - Train Loss: 0.4158\n",
      "Epoch [2/5] - Train Loss: 0.4086\n",
      "Epoch [3/5] - Train Loss: 0.3869\n",
      "Epoch [4/5] - Train Loss: 0.3659\n",
      "Epoch [5/5] - Train Loss: 0.3652\n",
      "Spearman Correlation: 0.6674 (p-value=3.48e-120)\n",
      "Pearson  Correlation: 0.6818 (p-value=2.439e-127)\n"
     ]
    },
    {
     "data": {
      "image/png": "[encoded data removed]",
      "text/plain": [
       "<Figure size 300x300 with 1 Axes>"
      ]
     },
     "metadata": {},
     "output_type": "display_data"
    },
    {
     "name": "stdout",
     "output_type": "stream",
     "text": [
      "Model saved to ../example_data/GSE251676/trained_model.pth\n"
     ]
    }
   ],
   "source": [
    "# --------------------------------------------------------------------------\n",
    "# Convert data to PyTorch tensors\n",
    "# --------------------------------------------------------------------------\n",
    "X_tensor = torch.FloatTensor(np.vstack(X))\n",
    "Y_tensor = torch.FloatTensor(np.vstack(Y))\n",
    "\n",
    "# --------------------------------------------------------------------------\n",
    "# Split into train and test sets (80/20) with one random seed\n",
    "# --------------------------------------------------------------------------\n",
    "seed = 42\n",
    "random.seed(seed)\n",
    "torch.manual_seed(seed)\n",
    "\n",
    "X_train, X_test, Y_train, Y_test = train_test_split(\n",
    "    X_tensor, Y_tensor, test_size=0.2, random_state=seed\n",
    ")\n",
    "\n",
    "print(f\"Training set: {X_train.shape[0]} samples\")\n",
    "print(f\"Test set    : {X_test.shape[0]} samples\")\n",
    "\n",
    "# --------------------------------------------------------------------------\n",
    "# Create PyTorch DataLoader\n",
    "# --------------------------------------------------------------------------\n",
    "train_dataset = TensorDataset(X_train, Y_train)\n",
    "test_dataset  = TensorDataset(X_test,  Y_test)\n",
    "\n",
    "train_loader = DataLoader(train_dataset, batch_size=32, shuffle=True)\n",
    "test_loader  = DataLoader(test_dataset,  batch_size=32, shuffle=False)\n",
    "\n",
    "model = model.to(device)\n",
    "optimizer = optim.Adam(model.parameters(), lr=0.0002)\n",
    "criterion = nn.MSELoss()\n",
    "\n",
    "# --------------------------------------------------------------------------\n",
    "# Training loop\n",
    "# --------------------------------------------------------------------------\n",
    "num_epochs = 5\n",
    "model.train()\n",
    "\n",
    "for epoch in range(num_epochs):\n",
    "    total_loss = 0\n",
    "    for inputs, targets in train_loader:\n",
    "        inputs  = inputs.to(device)     # if your model is on GPU\n",
    "        targets = targets.to(device)\n",
    "\n",
    "        optimizer.zero_grad()\n",
    "        outputs = model(inputs)\n",
    "        loss = criterion(outputs, targets)\n",
    "        loss.backward()\n",
    "        optimizer.step()\n",
    "\n",
    "        total_loss += loss.item()\n",
    "\n",
    "    avg_loss = total_loss / len(train_loader)\n",
    "    print(f\"Epoch [{epoch+1}/{num_epochs}] - Train Loss: {avg_loss:.4f}\")\n",
    "\n",
    "# --------------------------------------------------------------------------\n",
    "# Evaluation on test set\n",
    "# --------------------------------------------------------------------------\n",
    "model.eval()\n",
    "all_preds = []\n",
    "all_targets = []\n",
    "\n",
    "with torch.no_grad():\n",
    "    for inputs, targets in test_loader:\n",
    "        inputs  = inputs.to(device)\n",
    "        targets = targets.to(device)\n",
    "\n",
    "        preds = model(inputs)\n",
    "        all_preds.append(preds.cpu().numpy())\n",
    "        all_targets.append(targets.cpu().numpy())\n",
    "\n",
    "all_preds    = np.vstack(all_preds)\n",
    "all_targets  = np.vstack(all_targets)\n",
    "\n",
    "# Calculate correlations\n",
    "spearman_corr = scipy.stats.spearmanr(all_preds.flatten(), all_targets.flatten())\n",
    "pearson_corr  = scipy.stats.pearsonr(all_preds.flatten(),  all_targets.flatten())\n",
    "print(f\"Spearman Correlation: {spearman_corr.correlation:.4f} (p-value={spearman_corr.pvalue:.4g})\")\n",
    "print(f\"Pearson  Correlation: {pearson_corr[0]:.4f} (p-value={pearson_corr[1]:.4g})\")\n",
    "\n",
    "# --------------------------------------------------------------------------\n",
    "# Plot predicted vs. actual (test set) as a scatter plot\n",
    "# --------------------------------------------------------------------------\n",
    "plt.figure(figsize=(3, 3))\n",
    "plt.scatter(all_targets, all_preds, s=4)\n",
    "plt.xlabel(\"Measured Expression\")\n",
    "plt.ylabel(\"Predicted Expression\")\n",
    "plt.title(\"Test Set Predictions\")\n",
    "plt.show()\n",
    "\n",
    "# --------------------------------------------------------------------------\n",
    "# Save the trained model\n",
    "# --------------------------------------------------------------------------\n",
    "save_model_path = \"../example_data/GSE251676/trained_model.pth\"\n",
    "torch.save(model.state_dict(), save_model_path)\n",
    "print(f\"Model saved to {save_model_path}\")"
   ]
  },
  {
   "cell_type": "code",
   "execution_count": null,
   "id": "8aacb377",
   "metadata": {},
   "outputs": [],
   "source": []
  }
 ],
 "metadata": {
  "kernelspec": {
   "display_name": "Python (myenv)",
   "language": "python",
   "name": "transformers2"
  },
  "language_info": {
   "codemirror_mode": {
    "name": "ipython",
    "version": 3
   },
   "file_extension": ".py",
   "mimetype": "text/x-python",
   "name": "python",
   "nbconvert_exporter": "python",
   "pygments_lexer": "ipython3",
   "version": "3.8.16"
  }
 },
 "nbformat": 4,
 "nbformat_minor": 5
}
